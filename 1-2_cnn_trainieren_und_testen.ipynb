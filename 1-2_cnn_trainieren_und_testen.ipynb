{
 "cells": [
  {
   "cell_type": "markdown",
   "id": "a9713923-4f4a-493c-b844-7e4ca3caff90",
   "metadata": {},
   "source": [
    "# Datensatz zum Training und Testen vorbereiten"
   ]
  },
  {
   "cell_type": "code",
   "execution_count": 19,
   "id": "7285bb70-9b00-40dd-80d4-7b32322a0561",
   "metadata": {},
   "outputs": [],
   "source": [
    "folder = \"imagenette2_320px/\"\n",
    "\n",
    "import torch\n",
    "from torchvision import datasets, transforms\n",
    "\n",
    "# Transformations\n",
    "transform = transforms.Compose([\n",
    "    transforms.Resize(256),\n",
    "    transforms.CenterCrop(224),\n",
    "    transforms.ToTensor()    \n",
    "])\n",
    "\n",
    "# Trainings- und Testdatensatz vorbereiten\n",
    "train_dataset = datasets.ImageFolder(root=f\"{folder}/train\",\n",
    "                                     transform=transform)\n",
    "train_loader = torch.utils.data.DataLoader(train_dataset,\n",
    "                                           batch_size=32,\n",
    "                                           shuffle=True)\n",
    "\n",
    "test_dataset = datasets.ImageFolder(root=f\"{folder}/val\",\n",
    "                                    transform=transform)\n",
    "test_loader = torch.utils.data.DataLoader(test_dataset,\n",
    "                                          batch_size=32,\n",
    "                                          shuffle=False)"
   ]
  },
  {
   "cell_type": "code",
   "execution_count": 3,
   "id": "3105095e-7544-4835-810e-fa921b214b02",
   "metadata": {},
   "outputs": [
    {
     "data": {
      "text/plain": [
       "Dataset ImageFolder\n",
       "    Number of datapoints: 9501\n",
       "    Root location: imagenette2_320px//train\n",
       "    StandardTransform\n",
       "Transform: Compose(\n",
       "               Resize(size=256, interpolation=bilinear, max_size=None, antialias=warn)\n",
       "               CenterCrop(size=(224, 224))\n",
       "               ToTensor()\n",
       "           )"
      ]
     },
     "execution_count": 3,
     "metadata": {},
     "output_type": "execute_result"
    }
   ],
   "source": [
    "train_dataset"
   ]
  },
  {
   "cell_type": "code",
   "execution_count": 4,
   "id": "8cb6e7a4-b39b-4964-bf27-4f7dd4d30838",
   "metadata": {},
   "outputs": [
    {
     "data": {
      "text/plain": [
       "Dataset ImageFolder\n",
       "    Number of datapoints: 3925\n",
       "    Root location: imagenette2_320px//val\n",
       "    StandardTransform\n",
       "Transform: Compose(\n",
       "               Resize(size=256, interpolation=bilinear, max_size=None, antialias=warn)\n",
       "               CenterCrop(size=(224, 224))\n",
       "               ToTensor()\n",
       "           )"
      ]
     },
     "execution_count": 4,
     "metadata": {},
     "output_type": "execute_result"
    }
   ],
   "source": [
    "test_dataset"
   ]
  },
  {
   "cell_type": "markdown",
   "id": "c03f7175-ad4c-4a88-b38e-5b4e492e509e",
   "metadata": {},
   "source": [
    "# Anzahl der Batches pro Epoche anzeigen"
   ]
  },
  {
   "cell_type": "code",
   "execution_count": null,
   "id": "b7600087-7680-41db-9c2e-d9e0fd0e2e50",
   "metadata": {},
   "outputs": [],
   "source": [
    "nr_batches = 0\n",
    "for images, labels in train_loader:\n",
    "    print(images.shape)\n",
    "    print(labels.shape)\n",
    "    nr_batches += 1\n",
    "print(\"nr_batches\", nr_batches)"
   ]
  },
  {
   "cell_type": "code",
   "execution_count": 6,
   "id": "9296374e-ea7e-40f9-968b-6a3fa899d82e",
   "metadata": {},
   "outputs": [
    {
     "data": {
      "text/plain": [
       "9501"
      ]
     },
     "execution_count": 6,
     "metadata": {},
     "output_type": "execute_result"
    }
   ],
   "source": [
    "len(train_dataset)"
   ]
  },
  {
   "cell_type": "code",
   "execution_count": 7,
   "id": "3149494f-f808-4bba-8e54-8b9f1f295770",
   "metadata": {},
   "outputs": [
    {
     "data": {
      "text/plain": [
       "297"
      ]
     },
     "execution_count": 7,
     "metadata": {},
     "output_type": "execute_result"
    }
   ],
   "source": [
    "len(train_loader)"
   ]
  },
  {
   "cell_type": "code",
   "execution_count": 8,
   "id": "8019ad08-0d01-4bbb-ad98-23257ef40c58",
   "metadata": {},
   "outputs": [
    {
     "data": {
      "text/plain": [
       "32"
      ]
     },
     "execution_count": 8,
     "metadata": {},
     "output_type": "execute_result"
    }
   ],
   "source": [
    "train_loader.batch_size"
   ]
  },
  {
   "cell_type": "code",
   "execution_count": 9,
   "id": "a736ab46-709c-48d9-b6d2-ff63c05a4d74",
   "metadata": {},
   "outputs": [
    {
     "data": {
      "text/plain": [
       "296.90625"
      ]
     },
     "execution_count": 9,
     "metadata": {},
     "output_type": "execute_result"
    }
   ],
   "source": [
    "len(train_dataset) / train_loader.batch_size"
   ]
  },
  {
   "cell_type": "code",
   "execution_count": 10,
   "id": "c4276c68-6235-4788-918c-a6732dec9594",
   "metadata": {},
   "outputs": [
    {
     "data": {
      "text/plain": [
       "29"
      ]
     },
     "execution_count": 10,
     "metadata": {},
     "output_type": "execute_result"
    }
   ],
   "source": [
    "9501 % 32"
   ]
  },
  {
   "cell_type": "code",
   "execution_count": 11,
   "id": "82206c94-4d5d-4879-9194-0e8ad6b276d9",
   "metadata": {},
   "outputs": [
    {
     "data": {
      "text/plain": [
       "0.90625"
      ]
     },
     "execution_count": 11,
     "metadata": {},
     "output_type": "execute_result"
    }
   ],
   "source": [
    "29/32"
   ]
  },
  {
   "cell_type": "markdown",
   "id": "88c5b520-d835-4a02-b050-f1f933c2092f",
   "metadata": {},
   "source": [
    "# CNN-Modell in PyTorch definieren"
   ]
  },
  {
   "cell_type": "code",
   "execution_count": 12,
   "id": "0faf5b0f-51b2-496e-ac41-b291bc8da465",
   "metadata": {},
   "outputs": [],
   "source": [
    "import torch.nn as nn\n",
    "import torch.nn.functional as F\n",
    "\n",
    "class SimpleCNN(nn.Module):\n",
    "\n",
    "    def __init__(self):\n",
    "        super(SimpleCNN, self).__init__()\n",
    "\n",
    "        self.conv1 = nn.Conv2d(in_channels=3,  out_channels=16, kernel_size=3, stride=1, padding=1)\n",
    "        self.conv2 = nn.Conv2d(in_channels=16, out_channels=32, kernel_size=3, stride=1, padding=1)\n",
    "        self.conv3 = nn.Conv2d(in_channels=32, out_channels=64, kernel_size=3, stride=1, padding=1)\n",
    "        self.fc1   = nn.Linear(64*28*28, 512)\n",
    "        self.fc2   = nn.Linear(512, 10) # 10 Klassen\n",
    "\n",
    "    def forward(self, x):\n",
    "\n",
    "        # Merkmalshierarchie\n",
    "        x = F.relu(self.conv1(x))\n",
    "        x = F.max_pool2d(x, 2)\n",
    "        x = F.relu(self.conv2(x))\n",
    "        x = F.max_pool2d(x, 2)\n",
    "        x = F.relu(self.conv3(x))\n",
    "        x = F.max_pool2d(x, 2)\n",
    "        # Übergang zum MLP\n",
    "        x = F.flatten(x)\n",
    "        # MLP\n",
    "        x = F.relu(self.fc1(x))\n",
    "        x = self.fc2(x) # absichtlich: keine Relu hier!  \n",
    "\n",
    "        return x\n",
    "        "
   ]
  },
  {
   "cell_type": "code",
   "execution_count": 13,
   "id": "c0d09fac-d651-40b1-97d0-62a1bf1bcabf",
   "metadata": {},
   "outputs": [
    {
     "data": {
      "text/plain": [
       "SimpleCNN(\n",
       "  (conv1): Conv2d(3, 16, kernel_size=(3, 3), stride=(1, 1), padding=(1, 1))\n",
       "  (conv2): Conv2d(16, 32, kernel_size=(3, 3), stride=(1, 1), padding=(1, 1))\n",
       "  (conv3): Conv2d(32, 64, kernel_size=(3, 3), stride=(1, 1), padding=(1, 1))\n",
       "  (fc1): Linear(in_features=50176, out_features=512, bias=True)\n",
       "  (fc2): Linear(in_features=512, out_features=10, bias=True)\n",
       ")"
      ]
     },
     "execution_count": 13,
     "metadata": {},
     "output_type": "execute_result"
    }
   ],
   "source": [
    "model = SimpleCNN()\n",
    "model"
   ]
  },
  {
   "cell_type": "markdown",
   "id": "2d7972de-bd2e-4ee1-81c3-fcc56b9d9997",
   "metadata": {},
   "source": [
    "# Alternative Definition des CNN-Modells ohne `functional`-Modul "
   ]
  },
  {
   "cell_type": "code",
   "execution_count": 10,
   "id": "0ea8c95c-31e3-45ab-b7ce-033035a084e5",
   "metadata": {},
   "outputs": [],
   "source": [
    "import torch.nn as nn\n",
    "import torch.nn.functional as F\n",
    "\n",
    "class SimpleCNN(nn.Module):\n",
    "\n",
    "    def __init__(self):\n",
    "        super(SimpleCNN, self).__init__()\n",
    "\n",
    "        self.conv1 = nn.Conv2d(in_channels=3,  out_channels=16, kernel_size=3, stride=1, padding=1)\n",
    "        self.pool1 = nn.MaxPool2d(2)\n",
    "        self.relu1 = nn.ReLU()\n",
    "        \n",
    "        self.conv2 = nn.Conv2d(in_channels=16, out_channels=32, kernel_size=3, stride=1, padding=1)\n",
    "        self.pool2 = nn.MaxPool2d(2)\n",
    "        self.relu2 = nn.ReLU()\n",
    "        \n",
    "        self.conv3 = nn.Conv2d(in_channels=32, out_channels=64, kernel_size=3, stride=1, padding=1)\n",
    "        self.pool3 = nn.MaxPool2d(2)\n",
    "        self.relu3 = nn.ReLU()\n",
    "\n",
    "        self.flatten1 = nn.Flatten()\n",
    "        \n",
    "        self.fc1   = nn.Linear(64*28*28, 512)\n",
    "        self.relu4 = nn.ReLU()\n",
    "        self.fc2   = nn.Linear(512, 10) # 10 Klassen\n",
    "\n",
    "    def forward(self, x):\n",
    "\n",
    "        # Merkmalshierarchie\n",
    "        x = self.pool1(self.relu1(self.conv1(x)))\n",
    "        x = self.pool2(self.relu2(self.conv2(x)))\n",
    "        x = self.pool3(self.relu3(self.conv3(x)))\n",
    "\n",
    "        # Übergang zum MLP\n",
    "        x = self.flatten1(x)\n",
    "        # MLP\n",
    "        x = self.relu4(self.fc1(x))\n",
    "        x = self.fc2(x) # absichtlich: keine Relu hier!  \n",
    "\n",
    "        return x\n",
    "        "
   ]
  },
  {
   "cell_type": "code",
   "execution_count": 11,
   "id": "a31cf976-7181-4403-86c3-c5e39b283af3",
   "metadata": {},
   "outputs": [
    {
     "data": {
      "text/plain": [
       "SimpleCNN(\n",
       "  (conv1): Conv2d(3, 16, kernel_size=(3, 3), stride=(1, 1), padding=(1, 1))\n",
       "  (pool1): MaxPool2d(kernel_size=2, stride=2, padding=0, dilation=1, ceil_mode=False)\n",
       "  (relu1): ReLU()\n",
       "  (conv2): Conv2d(16, 32, kernel_size=(3, 3), stride=(1, 1), padding=(1, 1))\n",
       "  (pool2): MaxPool2d(kernel_size=2, stride=2, padding=0, dilation=1, ceil_mode=False)\n",
       "  (relu2): ReLU()\n",
       "  (conv3): Conv2d(32, 64, kernel_size=(3, 3), stride=(1, 1), padding=(1, 1))\n",
       "  (pool3): MaxPool2d(kernel_size=2, stride=2, padding=0, dilation=1, ceil_mode=False)\n",
       "  (relu3): ReLU()\n",
       "  (flatten1): Flatten(start_dim=1, end_dim=-1)\n",
       "  (fc1): Linear(in_features=78400, out_features=512, bias=True)\n",
       "  (relu4): ReLU()\n",
       "  (fc2): Linear(in_features=512, out_features=10, bias=True)\n",
       ")"
      ]
     },
     "execution_count": 11,
     "metadata": {},
     "output_type": "execute_result"
    }
   ],
   "source": [
    "model = SimpleCNN()\n",
    "model"
   ]
  },
  {
   "cell_type": "code",
   "execution_count": 9,
   "id": "171e8c63-797e-4ddd-9101-a3d6e33b6828",
   "metadata": {},
   "outputs": [
    {
     "name": "stdout",
     "output_type": "stream",
     "text": [
      "----------------------------------------------------------------\n",
      "        Layer (type)               Output Shape         Param #\n",
      "================================================================\n",
      "            Conv2d-1         [-1, 16, 224, 224]             448\n",
      "              ReLU-2         [-1, 16, 224, 224]               0\n",
      "         MaxPool2d-3         [-1, 16, 112, 112]               0\n",
      "            Conv2d-4         [-1, 32, 112, 112]           4,640\n",
      "              ReLU-5         [-1, 32, 112, 112]               0\n",
      "         MaxPool2d-6           [-1, 32, 56, 56]               0\n",
      "            Conv2d-7           [-1, 64, 56, 56]          18,496\n",
      "              ReLU-8           [-1, 64, 56, 56]               0\n",
      "         MaxPool2d-9           [-1, 64, 28, 28]               0\n",
      "          Flatten-10                [-1, 50176]               0\n",
      "           Linear-11                  [-1, 512]      25,690,624\n",
      "             ReLU-12                  [-1, 512]               0\n",
      "           Linear-13                   [-1, 10]           5,130\n",
      "================================================================\n",
      "Total params: 25,719,338\n",
      "Trainable params: 25,719,338\n",
      "Non-trainable params: 0\n",
      "----------------------------------------------------------------\n",
      "Input size (MB): 0.57\n",
      "Forward/backward pass size (MB): 24.51\n",
      "Params size (MB): 98.11\n",
      "Estimated Total Size (MB): 123.19\n",
      "----------------------------------------------------------------\n"
     ]
    }
   ],
   "source": [
    "from torchsummary import summary\n",
    "summary(model, (3, 224, 224), device=\"cpu\")"
   ]
  },
  {
   "cell_type": "markdown",
   "id": "aa6f79fe-f2cc-401a-b53e-fdabefe13330",
   "metadata": {},
   "source": [
    "# Automatische Ermittelung der Zahl 64x28x28"
   ]
  },
  {
   "cell_type": "code",
   "execution_count": 16,
   "id": "f2c2564d-f507-4475-9a18-c0c6cca10eb1",
   "metadata": {},
   "outputs": [
    {
     "name": "stdout",
     "output_type": "stream",
     "text": [
      "x.size= torch.Size([1, 50176])\n",
      "n_size= 50176\n"
     ]
    },
    {
     "data": {
      "text/plain": [
       "SimpleCNN(\n",
       "  (conv1): Conv2d(3, 16, kernel_size=(3, 3), stride=(1, 1), padding=(1, 1))\n",
       "  (pool1): MaxPool2d(kernel_size=2, stride=2, padding=0, dilation=1, ceil_mode=False)\n",
       "  (relu1): ReLU()\n",
       "  (conv2): Conv2d(16, 32, kernel_size=(3, 3), stride=(1, 1), padding=(1, 1))\n",
       "  (pool2): MaxPool2d(kernel_size=2, stride=2, padding=0, dilation=1, ceil_mode=False)\n",
       "  (relu2): ReLU()\n",
       "  (conv3): Conv2d(32, 64, kernel_size=(3, 3), stride=(1, 1), padding=(1, 1))\n",
       "  (pool3): MaxPool2d(kernel_size=2, stride=2, padding=0, dilation=1, ceil_mode=False)\n",
       "  (relu3): ReLU()\n",
       "  (flatten): Flatten(start_dim=1, end_dim=-1)\n",
       "  (fc1): Linear(in_features=50176, out_features=512, bias=True)\n",
       "  (relu4): ReLU()\n",
       "  (fc2): Linear(in_features=512, out_features=10, bias=True)\n",
       ")"
      ]
     },
     "execution_count": 16,
     "metadata": {},
     "output_type": "execute_result"
    }
   ],
   "source": [
    "import torch\n",
    "import torch.nn as nn\n",
    "\n",
    "class SimpleCNN(nn.Module):\n",
    "    def __init__(self):\n",
    "        super(SimpleCNN, self).__init__()\n",
    "        \n",
    "        self.conv1 = nn.Conv2d(in_channels=3,  out_channels=16, kernel_size=3, stride=1, padding=1)\n",
    "        self.pool1 = nn.MaxPool2d(2)\n",
    "        self.relu1 = nn.ReLU()\n",
    "        \n",
    "        self.conv2 = nn.Conv2d(in_channels=16, out_channels=32, kernel_size=3, stride=1, padding=1)       \n",
    "        self.pool2 = nn.MaxPool2d(2)\n",
    "        self.relu2 = nn.ReLU()\n",
    "        \n",
    "        self.conv3 = nn.Conv2d(in_channels=32, out_channels=64, kernel_size=3, stride=1, padding=1)\n",
    "        self.pool3 = nn.MaxPool2d(2)\n",
    "        self.relu3 = nn.ReLU()\n",
    "        \n",
    "        self.flatten = nn.Flatten()\n",
    "        \n",
    "        # Benutzen Sie einen Dummy-Eingabedatensatz, um die Größe automatisch zu ermitteln\n",
    "        with torch.no_grad():\n",
    "            self._initialize_fc_layers(torch.rand(1, 3, 224, 224))\n",
    "\n",
    "    def _initialize_fc_layers(self, x):\n",
    "        x = self.pool1(self.relu1(self.conv1(x)))\n",
    "        x = self.pool2(self.relu2(self.conv2(x)))\n",
    "        x = self.pool3(self.relu3(self.conv3(x)))\n",
    "        x = self.flatten(x)\n",
    "        print(\"x.size=\",x.size())\n",
    "        n_size = x.size(1)\n",
    "        print(\"n_size=\",n_size)\n",
    "        self.fc1   = nn.Linear(n_size, 512)\n",
    "        self.relu4 = nn.ReLU()\n",
    "        self.fc2   = nn.Linear(512, 10)\n",
    "\n",
    "    def forward(self, x):\n",
    "        x = self.pool1(self.relu1(self.conv1(x)))\n",
    "        x = self.pool2(self.relu2(self.conv2(x)))\n",
    "        x = self.pool3(self.relu3(self.conv3(x)))\n",
    "\n",
    "        # Übergang zum MLP\n",
    "        x = self.flatten(x)\n",
    "\n",
    "        # MLP        \n",
    "        x = self.relu4(self.fc1(x))        \n",
    "        x = self.fc2(x)\n",
    "\n",
    "        # Output-Tensor zurückliefern\n",
    "        return x\n",
    "\n",
    "model = SimpleCNN()\n",
    "model"
   ]
  },
  {
   "cell_type": "code",
   "execution_count": 17,
   "id": "2fd369ad-4caf-4522-a057-6e016a753258",
   "metadata": {},
   "outputs": [
    {
     "name": "stdout",
     "output_type": "stream",
     "text": [
      "----------------------------------------------------------------\n",
      "        Layer (type)               Output Shape         Param #\n",
      "================================================================\n",
      "            Conv2d-1         [-1, 16, 224, 224]             448\n",
      "              ReLU-2         [-1, 16, 224, 224]               0\n",
      "         MaxPool2d-3         [-1, 16, 112, 112]               0\n",
      "            Conv2d-4         [-1, 32, 112, 112]           4,640\n",
      "              ReLU-5         [-1, 32, 112, 112]               0\n",
      "         MaxPool2d-6           [-1, 32, 56, 56]               0\n",
      "            Conv2d-7           [-1, 64, 56, 56]          18,496\n",
      "              ReLU-8           [-1, 64, 56, 56]               0\n",
      "         MaxPool2d-9           [-1, 64, 28, 28]               0\n",
      "          Flatten-10                [-1, 50176]               0\n",
      "           Linear-11                  [-1, 512]      25,690,624\n",
      "             ReLU-12                  [-1, 512]               0\n",
      "           Linear-13                   [-1, 10]           5,130\n",
      "================================================================\n",
      "Total params: 25,719,338\n",
      "Trainable params: 25,719,338\n",
      "Non-trainable params: 0\n",
      "----------------------------------------------------------------\n",
      "Input size (MB): 0.57\n",
      "Forward/backward pass size (MB): 24.51\n",
      "Params size (MB): 98.11\n",
      "Estimated Total Size (MB): 123.19\n",
      "----------------------------------------------------------------\n"
     ]
    }
   ],
   "source": [
    "from torchsummary import summary\n",
    "summary(model, (3, 224, 224), device=\"cpu\")"
   ]
  },
  {
   "cell_type": "markdown",
   "id": "b6c68d39-977a-49c5-a984-533ef187588f",
   "metadata": {},
   "source": [
    "# CNN erstellen und auf der CPU trainieren"
   ]
  },
  {
   "cell_type": "code",
   "execution_count": null,
   "id": "d84cab64-9f98-4d1f-8e11-24152e1c39ef",
   "metadata": {},
   "outputs": [],
   "source": [
    "import torch.optim as optim\n",
    "\n",
    "model = SimpleCNN()\n",
    "\n",
    "criterion = nn.CrossEntropyLoss()\n",
    "optimizer = optim.Adam(model.parameters(), lr=0.001)\n",
    "\n",
    "num_epochs = 2\n",
    "model.train()\n",
    "\n",
    "for epoch in range(1,num_epochs+1):\n",
    "    print(f\"Trainings-Epoche: {epoch}/{num_epochs}\")\n",
    "\n",
    "    batch_nr = 1\n",
    "    for images, labels in train_loader:\n",
    "        if batch_nr % 25 == 0:\n",
    "            print(f\"\\tBatch: {batch_nr}\")\n",
    "        outputs = model(images)\n",
    "\n",
    "        loss = criterion(outputs, labels)\n",
    "\n",
    "        optimizer.zero_grad()\n",
    "        loss.backward()\n",
    "        optimizer.step()\n",
    "\n",
    "        batch_nr += 1"
   ]
  },
  {
   "cell_type": "markdown",
   "id": "a0c73278-e5ab-46b3-a996-ddbea1695997",
   "metadata": {},
   "source": [
    "# Ist eine GPU verfügbar?"
   ]
  },
  {
   "cell_type": "code",
   "execution_count": 22,
   "id": "653ea867-fd54-45bc-9f2f-4643cda46fde",
   "metadata": {},
   "outputs": [
    {
     "data": {
      "text/plain": [
       "True"
      ]
     },
     "execution_count": 22,
     "metadata": {},
     "output_type": "execute_result"
    }
   ],
   "source": [
    "torch.cuda.is_available()"
   ]
  },
  {
   "cell_type": "code",
   "execution_count": 25,
   "id": "81325f67-c908-4539-b675-176d94886577",
   "metadata": {},
   "outputs": [],
   "source": [
    "device = torch.device(\"cuda\" if torch.cuda.is_available() else \"cpu\")"
   ]
  },
  {
   "cell_type": "code",
   "execution_count": 26,
   "id": "0e0e3a73-0455-44bb-a1da-cb8543f59109",
   "metadata": {},
   "outputs": [
    {
     "data": {
      "text/plain": [
       "device(type='cuda')"
      ]
     },
     "execution_count": 26,
     "metadata": {},
     "output_type": "execute_result"
    }
   ],
   "source": [
    "device"
   ]
  },
  {
   "cell_type": "markdown",
   "id": "2cda9457-cd23-4bd4-a708-4663e7e2b6dc",
   "metadata": {},
   "source": [
    "# Jetzt geht es auf die GPU"
   ]
  },
  {
   "cell_type": "code",
   "execution_count": 32,
   "id": "24477aec-7ad6-4cbf-bda9-79418903c778",
   "metadata": {},
   "outputs": [
    {
     "name": "stdout",
     "output_type": "stream",
     "text": [
      "x.size= torch.Size([1, 50176])\n",
      "n_size= 50176\n",
      "Trainings-Epoche: 1/2\n",
      "\tBatch: 25\n",
      "\tBatch: 50\n",
      "\tBatch: 75\n",
      "\tBatch: 100\n",
      "\tBatch: 125\n",
      "\tBatch: 150\n",
      "\tBatch: 175\n",
      "\tBatch: 200\n",
      "\tBatch: 225\n",
      "\tBatch: 250\n",
      "\tBatch: 275\n",
      "Trainings-Epoche: 2/2\n",
      "\tBatch: 25\n",
      "\tBatch: 50\n",
      "\tBatch: 75\n",
      "\tBatch: 100\n",
      "\tBatch: 125\n",
      "\tBatch: 150\n",
      "\tBatch: 175\n",
      "\tBatch: 200\n",
      "\tBatch: 225\n",
      "\tBatch: 250\n",
      "\tBatch: 275\n"
     ]
    },
    {
     "data": {
      "image/png": "[encoded data removed]",
      "text/plain": [
       "<Figure size 640x480 with 1 Axes>"
      ]
     },
     "metadata": {},
     "output_type": "display_data"
    }
   ],
   "source": [
    "import torch.optim as optim\n",
    "\n",
    "model = SimpleCNN().to(device)\n",
    "\n",
    "criterion = nn.CrossEntropyLoss()\n",
    "optimizer = optim.Adam(model.parameters(), lr=0.001)\n",
    "\n",
    "num_epochs = 2\n",
    "model.train()\n",
    "\n",
    "losses = []\n",
    "\n",
    "for epoch in range(1,num_epochs+1):\n",
    "    print(f\"Trainings-Epoche: {epoch}/{num_epochs}\")\n",
    "\n",
    "    batch_nr = 1\n",
    "    for images, labels in train_loader:\n",
    "\n",
    "        images, labels = images.to(device), labels.to(device)\n",
    "        \n",
    "        if batch_nr % 25 == 0:\n",
    "            print(f\"\\tBatch: {batch_nr}\")\n",
    "        outputs = model(images)\n",
    "\n",
    "        loss = criterion(outputs, labels)\n",
    "        losses.append( loss.item() )\n",
    "\n",
    "        optimizer.zero_grad()\n",
    "        loss.backward()\n",
    "        optimizer.step()\n",
    "\n",
    "        batch_nr += 1\n",
    "\n",
    "import matplotlib.pyplot as plt\n",
    "plt.plot(losses)\n",
    "plt.show()"
   ]
  },
  {
   "cell_type": "code",
   "execution_count": null,
   "id": "521d99ca-2455-4b64-81f8-fc88d95a1c2b",
   "metadata": {},
   "outputs": [],
   "source": []
  }
 ],
 "metadata": {
  "kernelspec": {
   "display_name": "Python 3 (ipykernel)",
   "language": "python",
   "name": "python3"
  },
  "language_info": {
   "codemirror_mode": {
    "name": "ipython",
    "version": 3
   },
   "file_extension": ".py",
   "mimetype": "text/x-python",
   "name": "python",
   "nbconvert_exporter": "python",
   "pygments_lexer": "ipython3",
   "version": "3.11.5"
  }
 },
 "nbformat": 4,
 "nbformat_minor": 5
}
